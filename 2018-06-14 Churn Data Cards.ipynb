{
 "cells": [
  {
   "cell_type": "code",
   "execution_count": 217,
   "metadata": {
    "ExecuteTime": {
     "end_time": "2018-06-14T12:36:40.030730Z",
     "start_time": "2018-06-14T12:36:40.017413Z"
    }
   },
   "outputs": [],
   "source": [
    "import pandas as pd\n",
    "import requests\n",
    "import numpy as np\n",
    "import glob\n",
    "import re\n",
    "import datetime\n",
    "import seaborn as sns\n",
    "import matplotlib.pyplot as plt"
   ]
  },
  {
   "cell_type": "code",
   "execution_count": 116,
   "metadata": {
    "ExecuteTime": {
     "end_time": "2018-06-14T10:54:58.142558Z",
     "start_time": "2018-06-14T10:54:58.136548Z"
    }
   },
   "outputs": [],
   "source": [
    "date_today = datetime.date.today().isoformat()"
   ]
  },
  {
   "cell_type": "markdown",
   "metadata": {},
   "source": [
    "# Extract Indicator IDs per indicator"
   ]
  },
  {
   "cell_type": "code",
   "execution_count": 102,
   "metadata": {
    "ExecuteTime": {
     "end_time": "2018-06-14T10:43:34.133337Z",
     "start_time": "2018-06-14T10:43:34.110151Z"
    }
   },
   "outputs": [],
   "source": [
    "analytics_export = glob.glob('*.csv')[0]\n",
    "top_25 = pd.read_csv(analytics_export, skiprows=6, nrows=25)\n",
    "top_25['Indicator ID'] = 0"
   ]
  },
  {
   "cell_type": "code",
   "execution_count": 103,
   "metadata": {
    "ExecuteTime": {
     "end_time": "2018-06-14T10:44:28.148987Z",
     "start_time": "2018-06-14T10:43:34.275564Z"
    }
   },
   "outputs": [
    {
     "name": "stderr",
     "output_type": "stream",
     "text": [
      "C:\\Users\\mrpso\\Anaconda3\\lib\\site-packages\\ipykernel_launcher.py:4: DeprecationWarning: \n",
      ".ix is deprecated. Please use\n",
      ".loc for label based indexing or\n",
      ".iloc for positional indexing\n",
      "\n",
      "See the documentation here:\n",
      "http://pandas.pydata.org/pandas-docs/stable/indexing.html#ix-indexer-is-deprecated\n",
      "  after removing the cwd from sys.path.\n"
     ]
    }
   ],
   "source": [
    "pattern = 'var indicatorID = \\\"(\\d+)\\\";'\n",
    "\n",
    "for ix in range(len(top_25['Page'])):\n",
    "    url_ind = top_25.ix[ix, 'Page']\n",
    "    r = requests.get('https://tcdata360.worldbank.org' + url_ind)\n",
    "    m = re.search(pattern,r.text)\n",
    "    try:\n",
    "        ind_id = int(m.group(1))\n",
    "        top_25.ix[ix, 'Indicator ID'] = ind_id\n",
    "    except:\n",
    "        continue"
   ]
  },
  {
   "cell_type": "code",
   "execution_count": 111,
   "metadata": {
    "ExecuteTime": {
     "end_time": "2018-06-14T10:54:08.612836Z",
     "start_time": "2018-06-14T10:54:08.603159Z"
    }
   },
   "outputs": [],
   "source": [
    "top_25.ix[2,'Indicator ID'] = 669\n",
    "top_25.ix[24,'Indicator ID'] = 669\n",
    "top_25.ix[18,'Indicator ID'] = 277"
   ]
  },
  {
   "cell_type": "code",
   "execution_count": 117,
   "metadata": {
    "ExecuteTime": {
     "end_time": "2018-06-14T10:55:09.037507Z",
     "start_time": "2018-06-14T10:55:09.006203Z"
    }
   },
   "outputs": [],
   "source": [
    "top_25.to_csv(\"%s - Top 25 indicators.csv\" % date_today)"
   ]
  },
  {
   "cell_type": "markdown",
   "metadata": {},
   "source": [
    "# Extract data for single indicator"
   ]
  },
  {
   "cell_type": "code",
   "execution_count": 243,
   "metadata": {
    "ExecuteTime": {
     "end_time": "2018-06-14T12:42:40.448000Z",
     "start_time": "2018-06-14T12:42:40.438418Z"
    }
   },
   "outputs": [],
   "source": [
    "ind_ix = 3"
   ]
  },
  {
   "cell_type": "code",
   "execution_count": 244,
   "metadata": {
    "ExecuteTime": {
     "end_time": "2018-06-14T12:42:45.025851Z",
     "start_time": "2018-06-14T12:42:40.723955Z"
    }
   },
   "outputs": [
    {
     "name": "stdout",
     "output_type": "stream",
     "text": [
      "/indicators/hh.mkt 2370\n"
     ]
    }
   ],
   "source": [
    "ind_id_get = top_25.ix[ind_ix, 'Indicator ID']\n",
    "print(top_25.ix[ind_ix, 'Page'], ind_id_get)\n",
    "url_data = 'https://tcdata360-backend.worldbank.org/api/v1/data?indicators=%d' % ind_id_get\n",
    "r = requests.get(url_data)\n",
    "\n",
    "for ix in range(len(r.json()['data'])):\n",
    "    \n",
    "    df_temp = pd.DataFrame.from_dict(r.json()['data'][ix]['indicators'][0]['values'], orient='index')\n",
    "    df_temp.columns = [r.json()['data'][ix]['id']]\n",
    "    if ix == 0:\n",
    "        df_all = df_temp\n",
    "    else:\n",
    "        df_all = df_all.join(df_temp)\n",
    "\n",
    "df_all = df_all.T"
   ]
  },
  {
   "cell_type": "code",
   "execution_count": 245,
   "metadata": {
    "ExecuteTime": {
     "end_time": "2018-06-14T12:42:45.036552Z",
     "start_time": "2018-06-14T12:42:45.025851Z"
    }
   },
   "outputs": [],
   "source": [
    "df_all_melt = pd.melt(df_all.reset_index(), value_vars=df_all.columns, id_vars=['index'])"
   ]
  },
  {
   "cell_type": "markdown",
   "metadata": {},
   "source": [
    "# Try visualizations"
   ]
  },
  {
   "cell_type": "code",
   "execution_count": 246,
   "metadata": {
    "ExecuteTime": {
     "end_time": "2018-06-14T12:42:45.460624Z",
     "start_time": "2018-06-14T12:42:45.037550Z"
    }
   },
   "outputs": [
    {
     "data": {
      "text/plain": [
       "<matplotlib.axes._subplots.AxesSubplot at 0x2487ddc4b00>"
      ]
     },
     "execution_count": 246,
     "metadata": {},
     "output_type": "execute_result"
    },
    {
     "data": {
      "image/png": "[encoded data removed]",
      "text/plain": [
       "<matplotlib.figure.Figure at 0x2487c266860>"
      ]
     },
     "metadata": {},
     "output_type": "display_data"
    }
   ],
   "source": [
    "sns.heatmap(df_all)"
   ]
  },
  {
   "cell_type": "code",
   "execution_count": 247,
   "metadata": {
    "ExecuteTime": {
     "end_time": "2018-06-14T12:42:45.946593Z",
     "start_time": "2018-06-14T12:42:45.465017Z"
    }
   },
   "outputs": [
    {
     "data": {
      "text/plain": [
       "<matplotlib.axes._subplots.AxesSubplot at 0x2487b3a2f98>"
      ]
     },
     "execution_count": 247,
     "metadata": {},
     "output_type": "execute_result"
    },
    {
     "data": {
      "image/png": "[encoded data removed]",
      "text/plain": [
       "<matplotlib.figure.Figure at 0x2487db40cc0>"
      ]
     },
     "metadata": {},
     "output_type": "display_data"
    }
   ],
   "source": [
    "sns.set(rc={'figure.figsize':(10,5)})\n",
    "sns.boxplot(x=\"variable\", y=\"value\", data=df_all_melt)"
   ]
  },
  {
   "cell_type": "code",
   "execution_count": 248,
   "metadata": {
    "ExecuteTime": {
     "end_time": "2018-06-14T12:42:47.503045Z",
     "start_time": "2018-06-14T12:42:46.431023Z"
    }
   },
   "outputs": [
    {
     "data": {
      "text/plain": [
       "array([[<matplotlib.axes._subplots.AxesSubplot object at 0x000002487B40C1D0>,\n",
       "        <matplotlib.axes._subplots.AxesSubplot object at 0x000002487B2887B8>,\n",
       "        <matplotlib.axes._subplots.AxesSubplot object at 0x000002487B2BFB38>],\n",
       "       [<matplotlib.axes._subplots.AxesSubplot object at 0x000002487B33BD68>,\n",
       "        <matplotlib.axes._subplots.AxesSubplot object at 0x000002487B3B1DD8>,\n",
       "        <matplotlib.axes._subplots.AxesSubplot object at 0x000002487B3B1E10>],\n",
       "       [<matplotlib.axes._subplots.AxesSubplot object at 0x000002487DA84B38>,\n",
       "        <matplotlib.axes._subplots.AxesSubplot object at 0x000002487B45EB38>,\n",
       "        <matplotlib.axes._subplots.AxesSubplot object at 0x000002487B4D7128>]],\n",
       "      dtype=object)"
      ]
     },
     "execution_count": 248,
     "metadata": {},
     "output_type": "execute_result"
    },
    {
     "data": {
      "image/png": "[encoded data removed]",
      "text/plain": [
       "<matplotlib.figure.Figure at 0x2487b36c198>"
      ]
     },
     "metadata": {},
     "output_type": "display_data"
    }
   ],
   "source": [
    "df_all.hist()"
   ]
  },
  {
   "cell_type": "markdown",
   "metadata": {},
   "source": [
    "# Try outlier detection on dataframe"
   ]
  },
  {
   "cell_type": "code",
   "execution_count": 249,
   "metadata": {
    "ExecuteTime": {
     "end_time": "2018-06-14T12:42:53.254302Z",
     "start_time": "2018-06-14T12:42:50.679376Z"
    }
   },
   "outputs": [
    {
     "data": {
      "text/html": [
       "<div>\n",
       "<style scoped>\n",
       "    .dataframe tbody tr th:only-of-type {\n",
       "        vertical-align: middle;\n",
       "    }\n",
       "\n",
       "    .dataframe tbody tr th {\n",
       "        vertical-align: top;\n",
       "    }\n",
       "\n",
       "    .dataframe thead th {\n",
       "        text-align: right;\n",
       "    }\n",
       "</style>\n",
       "<table border=\"1\" class=\"dataframe\">\n",
       "  <thead>\n",
       "    <tr style=\"text-align: right;\">\n",
       "      <th></th>\n",
       "      <th>G1</th>\n",
       "      <th>G2</th>\n",
       "      <th>Value</th>\n",
       "    </tr>\n",
       "  </thead>\n",
       "  <tbody>\n",
       "  </tbody>\n",
       "</table>\n",
       "</div>"
      ],
      "text/plain": [
       "Empty DataFrame\n",
       "Columns: [G1, G2, Value]\n",
       "Index: []"
      ]
     },
     "execution_count": 249,
     "metadata": {},
     "output_type": "execute_result"
    }
   ],
   "source": [
    "df = df_all_melt.copy()\n",
    "df.columns = ['G1', 'G2', 'Value']\n",
    "stds = 1.0\n",
    "outliers = df[['G1', 'G2', 'Value']].groupby(['G1','G2']).transform(\n",
    "           lambda group: (group - group.mean()).abs().div(group.std())) > stds\n",
    "\n",
    "dfo = df[outliers.Value == True]\n",
    "dfo"
   ]
  },
  {
   "cell_type": "code",
   "execution_count": null,
   "metadata": {},
   "outputs": [],
   "source": []
  }
 ],
 "metadata": {
  "kernelspec": {
   "display_name": "Python 3",
   "language": "python",
   "name": "python3"
  },
  "language_info": {
   "codemirror_mode": {
    "name": "ipython",
    "version": 3
   },
   "file_extension": ".py",
   "mimetype": "text/x-python",
   "name": "python",
   "nbconvert_exporter": "python",
   "pygments_lexer": "ipython3",
   "version": "3.6.4"
  },
  "toc": {
   "colors": {
    "hover_highlight": "#DAA520",
    "navigate_num": "#000000",
    "navigate_text": "#333333",
    "running_highlight": "#FF0000",
    "selected_highlight": "#FFD700",
    "sidebar_border": "#EEEEEE",
    "wrapper_background": "#FFFFFF"
   },
   "moveMenuLeft": true,
   "nav_menu": {
    "height": "86px",
    "width": "252px"
   },
   "navigate_menu": true,
   "number_sections": true,
   "sideBar": true,
   "threshold": 4,
   "toc_cell": false,
   "toc_section_display": "block",
   "toc_window_display": false,
   "widenNotebook": false
  }
 },
 "nbformat": 4,
 "nbformat_minor": 2
}
